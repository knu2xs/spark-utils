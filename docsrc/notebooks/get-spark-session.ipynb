{
 "cells": [
  {
   "cell_type": "markdown",
   "id": "c2a77407",
   "metadata": {},
   "source": [
    "# Get Spark Session"
   ]
  },
  {
   "cell_type": "code",
   "execution_count": 1,
   "id": "0e3f378b-3908-4623-84c6-03d6c24cde2a",
   "metadata": {},
   "outputs": [],
   "source": [
    "from spark_utils import get_spark_session, spark_stop\n",
    "\n",
    "from geoanalytics.sql import functions as fns_ga"
   ]
  },
  {
   "cell_type": "code",
   "execution_count": 2,
   "id": "65aa9da9-acef-44f1-8aeb-fd0e4ae534d6",
   "metadata": {},
   "outputs": [
    {
     "data": {
      "text/html": [
       "\n",
       "            <div>\n",
       "                <p><b>SparkSession - in-memory</b></p>\n",
       "                \n",
       "        <div>\n",
       "            <p><b>SparkContext</b></p>\n",
       "\n",
       "            <p><a href=\"http://127.0.0.1:4040\">Spark UI</a></p>\n",
       "\n",
       "            <dl>\n",
       "              <dt>Version</dt>\n",
       "                <dd><code>v3.4.1-esri-1</code></dd>\n",
       "              <dt>Master</dt>\n",
       "                <dd><code>local[*]</code></dd>\n",
       "              <dt>AppName</dt>\n",
       "                <dd><code>Business Analyst Data Engineering</code></dd>\n",
       "            </dl>\n",
       "        </div>\n",
       "        \n",
       "            </div>\n",
       "        "
      ],
      "text/plain": [
       "<pyspark.sql.session.SparkSession at 0x252b85e1ac0>"
      ]
     },
     "execution_count": 2,
     "metadata": {},
     "output_type": "execute_result"
    }
   ],
   "source": [
    "spark = get_spark_session()\n",
    "\n",
    "spark"
   ]
  },
  {
   "cell_type": "code",
   "execution_count": 3,
   "id": "59bf0596-07e9-4a9b-a116-1822114747a8",
   "metadata": {},
   "outputs": [],
   "source": [
    "from geoanalytics import auth_info\n",
    "\n",
    "auth_info().show()"
   ]
  },
  {
   "cell_type": "code",
   "execution_count": null,
   "id": "49bf22c3-eeba-47c7-bee2-42fa3b5e0aad",
   "metadata": {},
   "outputs": [],
   "source": []
  }
 ],
 "metadata": {
  "kernelspec": {
   "display_name": "Python 3 (ipykernel)",
   "language": "python",
   "name": "python3"
  },
  "language_info": {
   "codemirror_mode": {
    "name": "ipython",
    "version": 3
   },
   "file_extension": ".py",
   "mimetype": "text/x-python",
   "name": "python",
   "nbconvert_exporter": "python",
   "pygments_lexer": "ipython3",
   "version": "3.9.18"
  }
 },
 "nbformat": 4,
 "nbformat_minor": 5
}
