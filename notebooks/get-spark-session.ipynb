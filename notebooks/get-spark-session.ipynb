{
 "cells": [
  {
   "cell_type": "markdown",
   "id": "c2a77407",
   "metadata": {},
   "source": [
    "# Get Spark Session"
   ]
  },
  {
   "cell_type": "code",
   "execution_count": 1,
   "id": "0e3f378b-3908-4623-84c6-03d6c24cde2a",
   "metadata": {},
   "outputs": [],
   "source": [
    "from pathlib import Path\n",
    "\n",
    "from geoanalytics.sql import functions as fns_ga\n",
    "from geoanalytics.tools import Geocode\n",
    "\n",
    "from spark_utils import get_spark_session, spark_stop"
   ]
  },
  {
   "cell_type": "code",
   "execution_count": 2,
   "id": "9c9169e6-ba89-4f4f-9cae-055a75bef868",
   "metadata": {},
   "outputs": [],
   "source": [
    "address_locator = Path(r\"C:\\opt\\geoanalytics\\United_States.mmpk\")\n",
    "\n",
    "assert address_locator.exists()"
   ]
  },
  {
   "cell_type": "code",
   "execution_count": 3,
   "id": "65aa9da9-acef-44f1-8aeb-fd0e4ae534d6",
   "metadata": {},
   "outputs": [
    {
     "data": {
      "text/html": [
       "\n",
       "            <div>\n",
       "                <p><b>SparkSession - in-memory</b></p>\n",
       "                \n",
       "        <div>\n",
       "            <p><b>SparkContext</b></p>\n",
       "\n",
       "            <p><a href=\"http://127.0.0.1:4040\">Spark UI</a></p>\n",
       "\n",
       "            <dl>\n",
       "              <dt>Version</dt>\n",
       "                <dd><code>v3.4.1-esri-1</code></dd>\n",
       "              <dt>Master</dt>\n",
       "                <dd><code>local[*]</code></dd>\n",
       "              <dt>AppName</dt>\n",
       "                <dd><code>Business Analyst Data Engineering</code></dd>\n",
       "            </dl>\n",
       "        </div>\n",
       "        \n",
       "            </div>\n",
       "        "
      ],
      "text/plain": [
       "<pyspark.sql.session.SparkSession at 0x189a00b79d0>"
      ]
     },
     "execution_count": 3,
     "metadata": {},
     "output_type": "execute_result"
    }
   ],
   "source": [
    "spark = get_spark_session()\n",
    "\n",
    "spark"
   ]
  },
  {
   "cell_type": "code",
   "execution_count": 5,
   "id": "59bf0596-07e9-4a9b-a116-1822114747a8",
   "metadata": {},
   "outputs": [
    {
     "name": "stdout",
     "output_type": "stream",
     "text": [
      "+--------------+------------+\n",
      "|          name|       value|\n",
      "+--------------+------------+\n",
      "|session_uptime|       41493|\n",
      "|          auth|license/file|\n",
      "|         scope|     context|\n",
      "|       offline|        true|\n",
      "|       metered|       false|\n",
      "|    authorized|        true|\n",
      "|       expires|  2024-10-16|\n",
      "+--------------+------------+\n",
      "\n"
     ]
    }
   ],
   "source": [
    "from geoanalytics import auth_info\n",
    "\n",
    "auth_info().show()"
   ]
  },
  {
   "cell_type": "code",
   "execution_count": 6,
   "id": "49bf22c3-eeba-47c7-bee2-42fa3b5e0aad",
   "metadata": {},
   "outputs": [
    {
     "data": {
      "text/plain": [
       "<geoanalytics.tools.geocode.Geocode at 0x189a00b7d00>"
      ]
     },
     "execution_count": 6,
     "metadata": {},
     "output_type": "execute_result"
    }
   ],
   "source": [
    "geocode_result = (\n",
    "    Geocode()\n",
    "    .setLocator(address_locator)\n",
    "    .setAddressFields(\"NAME\", \"STREET\", \"CITY\", \"STATE\", \"ZIP\")\n",
    "    .setMinScore(80)\n",
    "    .setOutFields(\"all\")\n",
    "    .setCountryCode(\"USA\")\n",
    "    .run()\n",
    ")"
   ]
  },
  {
   "cell_type": "code",
   "execution_count": null,
   "id": "93f26d3f-e09f-4ff3-963c-baf1d45d4073",
   "metadata": {},
   "outputs": [],
   "source": []
  }
 ],
 "metadata": {
  "kernelspec": {
   "display_name": "Python 3 (ipykernel)",
   "language": "python",
   "name": "python3"
  },
  "language_info": {
   "codemirror_mode": {
    "name": "ipython",
    "version": 3
   },
   "file_extension": ".py",
   "mimetype": "text/x-python",
   "name": "python",
   "nbconvert_exporter": "python",
   "pygments_lexer": "ipython3",
   "version": "3.9.18"
  }
 },
 "nbformat": 4,
 "nbformat_minor": 5
}
